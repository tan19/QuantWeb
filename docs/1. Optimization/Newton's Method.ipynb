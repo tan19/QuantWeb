{
 "cells": [
  {
   "cell_type": "markdown",
   "metadata": {},
   "source": [
    "# Introduction"
   ]
  },
  {
   "cell_type": "markdown",
   "metadata": {},
   "source": [
    "<div class=\"admonition note\">\n",
    "    <p class=\"admonition-title\">Newton's Method</p>\n",
    "    <p>\n",
    "    Newton's Methods is used to solve differentiable root-finding and optimization problems, with the following iteration:\n",
    "        $$\n",
    "            x_{i+1} = x_i - \\frac{f'(x_i)}{f''(x_i)}\n",
    "        $$\n",
    "    </p>\n",
    "</div>"
   ]
  },
  {
   "cell_type": "markdown",
   "metadata": {},
   "source": [
    "# Code"
   ]
  },
  {
   "cell_type": "code",
   "execution_count": 81,
   "metadata": {},
   "outputs": [],
   "source": [
    "import numpy as np\n",
    "import matplotlib.pyplot as plt"
   ]
  },
  {
   "cell_type": "code",
   "execution_count": 82,
   "metadata": {},
   "outputs": [],
   "source": [
    "def df(f):\n",
    "    '''\n",
    "    First derivative of f\n",
    "    '''\n",
    "    def eval_at(x):\n",
    "        shock = 1e-6\n",
    "        f_up = f(x + 1e-3)\n",
    "        f_dn = f(x - 1e-3)\n",
    "        res = (f_up - f_dn) / (2 * shock)\n",
    "        return res\n",
    "    return eval_at\n",
    "\n",
    "def ddf(f):\n",
    "    '''\n",
    "    Second derivative of f\n",
    "    '''\n",
    "    return df(df(f))"
   ]
  },
  {
   "cell_type": "code",
   "execution_count": 83,
   "metadata": {},
   "outputs": [],
   "source": [
    "f = lambda x : (x ** 2 - 2) ** 2 # f = (x^2 - 2)^2; to find the square root of 2\n",
    "x = 1 # initial value\n",
    "delta = df(f)(x) / ddf(f)(x)"
   ]
  },
  {
   "cell_type": "code",
   "execution_count": 84,
   "metadata": {},
   "outputs": [
    {
     "data": {
      "text/plain": [
       "'Optimum value found : 1.4132151416914993'"
      ]
     },
     "metadata": {},
     "output_type": "display_data"
    },
    {
     "data": {
      "text/plain": [
       "'Theoretical value   : 1.4142135623730951'"
      ]
     },
     "metadata": {},
     "output_type": "display_data"
    }
   ],
   "source": [
    "# Newton iterations\n",
    "iter, xs, deltas = [0], [x], [abs(delta)]\n",
    "while abs(delta) > 1e-6:    \n",
    "    x -= delta    \n",
    "\n",
    "    iter.append(iter[-1] + 1)\n",
    "    xs.append(x)\n",
    "    deltas.append(abs(delta))\n",
    "\n",
    "    delta = df(f)(x) / ddf(f)(x)\n",
    "\n",
    "display(f'Optimum value found : {x}')\n",
    "display(f'Theoretical value   : {np.sqrt(2)}')"
   ]
  },
  {
   "cell_type": "code",
   "execution_count": 85,
   "metadata": {},
   "outputs": [
    {
     "data": {
      "image/png": "[encoded data removed]",
      "text/plain": [
       "<Figure size 432x288 with 2 Axes>"
      ]
     },
     "metadata": {
      "needs_background": "light"
     },
     "output_type": "display_data"
    }
   ],
   "source": [
    "# plot\n",
    "fig, ax1 = plt.subplots()\n",
    "ax2 = ax1.twinx()\n",
    "ax1.plot(iter, xs, 'g-')\n",
    "ax2.plot(iter, deltas, 'b-')\n",
    "ax1.set_xlabel('iterations')\n",
    "ax1.set_ylabel('x', color='g')\n",
    "ax2.set_ylabel('delta', color='b')\n",
    "plt.show()"
   ]
  },
  {
   "cell_type": "markdown",
   "metadata": {},
   "source": [
    "# Appendix"
   ]
  },
  {
   "cell_type": "markdown",
   "metadata": {},
   "source": [
    "<details class=\"tip\">\n",
    "    <summary>Appendix: Proof of decomposition</summary>\n",
    "    <p><br>First, let's recall conditional probability,<br>\n",
    "    $$P\\left (A|B\\right ) = \\frac{P\\left (A, B\\right )}{P\\left (B\\right )}$$\n",
    "    The above equation is so derived because of reduction of sample space of $A$ when $B$ has already occured.\n",
    "    Now, adjusting terms -<br>\n",
    "    $$P\\left (A, B\\right ) = P\\left (A|B\\right )*P\\left (B\\right )$$\n",
    "    This equation is called chain rule of probability. Let's generalize this rule for Bayesian Networks. The ordering of names of nodes is such that parent(s) of nodes lie above them (Breadth First Ordering).<br>\n",
    "    $$P\\left (X_1, X_2, X_3, ..., X_n\\right ) = P\\left (X_n, X_{n-1}, X_{n-2}, ..., X_1\\right )\\\\\n",
    "    = P\\left (X_n|X_{n-1}, X_{n-2}, X_{n-3}, ..., X_1\\right ) * P \\left (X_{n-1}, X_{n-2}, X_{n-3}, ..., X_1\\right ) \\left (Chain Rule\\right )\\\\  \n",
    "    = P\\left (X_n|X_{n-1}, X_{n-2}, X_{n-3}, ..., X_1\\right ) * P \\left (X_{n-1}|X_{n-2}, X_{n-3}, X_{n-4}, ..., X_1\\right ) * P \\left (X_{n-2}, X_{n-3}, X_{n-4}, ..., X_1\\right )$$\n",
    "    Applying chain rule repeatedly, we get the following equation -<br>\n",
    "    $$P\\left (\\bigcap_{i=1}^{n}X_i\\right ) = \\prod_{i=1}^{n} P\\left (X_i | P\\left (\\bigcap_{j=1}^{i-1}X_j\\right )\\right )$$\n",
    "    Keep the above equation in mind. Let's bring back Markov property. To bring some intuition behind Markov property, let's reuse <a href=\"#bayesian-network-example\">Bayesian Network Example</a>. If we say, the student scored very good  <strong>grades</strong>, then it is highly likely the student gets  <strong>acceptance letter </strong> to university. No matter how  <strong>difficult</strong> the class was, how much  <strong>intelligent </strong> the student was, and no matter what his/her  <strong>SAT</strong> score was. The key thing to note here is by  <strong>observing</strong> the node's parent, the influence by  <strong>non-descendants</strong> towards the node gets eliminated. Now, the equation becomes -<br>\n",
    "    $$P\\left (\\bigcap_{i=1}^{n}X_i\\right ) = \\prod_{i=1}^{n} P\\left (X_i | Par\\left (X_i\\right )\\right )$$\n",
    "    Bingo, with the above equation, we have proved  <strong>Factorization Theorem </strong> in Probability.\n",
    "    </p>\n",
    "</details>"
   ]
  }
 ],
 "metadata": {
  "kernelspec": {
   "display_name": "Python 3.10.5 64-bit",
   "language": "python",
   "name": "python3"
  },
  "language_info": {
   "codemirror_mode": {
    "name": "ipython",
    "version": 3
   },
   "file_extension": ".py",
   "mimetype": "text/x-python",
   "name": "python",
   "nbconvert_exporter": "python",
   "pygments_lexer": "ipython3",
   "version": "3.10.5"
  },
  "orig_nbformat": 4,
  "vscode": {
   "interpreter": {
    "hash": "dc4c58f33a2dda4f16b3dd27e4d313d325ac578a6015702e918f167c211fb238"
   }
  }
 },
 "nbformat": 4,
 "nbformat_minor": 2
}
